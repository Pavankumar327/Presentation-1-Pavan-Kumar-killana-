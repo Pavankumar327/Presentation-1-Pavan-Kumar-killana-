{
  "nbformat": 4,
  "nbformat_minor": 0,
  "metadata": {
    "colab": {
      "name": "Week 2: Assignment_Probability distribution.ipynb",
      "provenance": [],
      "authorship_tag": "ABX9TyPai/yIdRx4ICXjR44NAwRX",
      "include_colab_link": true
    },
    "kernelspec": {
      "name": "python3",
      "display_name": "Python 3"
    },
    "language_info": {
      "name": "python"
    }
  },
  "cells": [
    {
      "cell_type": "markdown",
      "metadata": {
        "id": "view-in-github",
        "colab_type": "text"
      },
      "source": [
        "<a href=\"https://colab.research.google.com/github/Pavankumar327/Projectpresentation-1-Pavan-Kumar-killana-/blob/main/Week_2_Assignment_Probability_distribution.ipynb\" target=\"_parent\"><img src=\"https://colab.research.google.com/assets/colab-badge.svg\" alt=\"Open In Colab\"/></a>"
      ]
    },
    {
      "cell_type": "markdown",
      "source": [
        "**Week** **2**:**Assignment** **_Probability** **distribution** "
      ],
      "metadata": {
        "id": "MiXxpeWNCOte"
      }
    },
    {
      "cell_type": "markdown",
      "source": [
        "**1**.**Calculate** **Probabilities** **Using** a **Binomial** **Distribution**"
      ],
      "metadata": {
        "id": "5Ahk7R-nCc_J"
      }
    },
    {
      "cell_type": "markdown",
      "source": [
        "P(X=10) where X=k=10,no of trials n=15,Sucess Probabibilty p=0.65"
      ],
      "metadata": {
        "id": "v2vZxE5MDKR2"
      }
    },
    {
      "cell_type": "markdown",
      "source": [
        "Q1.1. Pavan kumar makes 65% of his free-throw attempts. If he shoots 15 free throws, what is the probability that he makes exactly 10?"
      ],
      "metadata": {
        "id": "vM7gDhyLC8_v"
      }
    },
    {
      "cell_type": "code",
      "source": [
        "from scipy .stats import binom\n",
        "binom\n",
        "binom.pmf(k=10,n=15,p=0.65)"
      ],
      "metadata": {
        "colab": {
          "base_uri": "https://localhost:8080/"
        },
        "id": "DvlQp-dBD8-j",
        "outputId": "dd2b7b98-9b2f-487e-e92a-8df0e164ee05"
      },
      "execution_count": 1,
      "outputs": [
        {
          "output_type": "execute_result",
          "data": {
            "text/plain": [
              "0.21233868348803567"
            ]
          },
          "metadata": {},
          "execution_count": 1
        }
      ]
    },
    {
      "cell_type": "markdown",
      "source": [
        "Q1.2.Shivam flips a fair coin 6 times. What is the probability that the coin lands on heads 3 times or fewer?"
      ],
      "metadata": {
        "id": "Cd8dMqi7EpMD"
      }
    },
    {
      "cell_type": "markdown",
      "source": [
        "P(X<=3), n=6,p=0.5"
      ],
      "metadata": {
        "id": "fz0wwXDiEvdZ"
      }
    },
    {
      "cell_type": "code",
      "source": [
        "from scipy.stats import binom\n",
        "binom.cdf(k=3,n=6,p=0.5)"
      ],
      "metadata": {
        "colab": {
          "base_uri": "https://localhost:8080/"
        },
        "id": "A_6j4tgbE7jY",
        "outputId": "c199ec7f-7e92-4c9a-f990-f62c3900f4e2"
      },
      "execution_count": 2,
      "outputs": [
        {
          "output_type": "execute_result",
          "data": {
            "text/plain": [
              "0.6562499999999999"
            ]
          },
          "metadata": {},
          "execution_count": 2
        }
      ]
    },
    {
      "cell_type": "markdown",
      "source": [
        "Q1.3.It is known that 65% of individuals support a certain law. If 10 individuals are randomly selected, what is the probability that between 3 and 6 of them support the law?"
      ],
      "metadata": {
        "id": "HcQWVxwJFSF5"
      }
    },
    {
      "cell_type": "markdown",
      "source": [
        "P(3<X<6),n=10,p=0.65"
      ],
      "metadata": {
        "id": "GKc9RMahGIWZ"
      }
    },
    {
      "cell_type": "code",
      "source": [
        "from scipy .stats import binom\n",
        "binom\n",
        "binom.cdf(k=6,n=10,p=0.65)-binom.cdf(k=3,n=10,p=0.65)"
      ],
      "metadata": {
        "colab": {
          "base_uri": "https://localhost:8080/"
        },
        "id": "ra16xwsqGzQa",
        "outputId": "24514ea0-89cd-41cf-a00c-8c644db44e15"
      },
      "execution_count": 3,
      "outputs": [
        {
          "output_type": "execute_result",
          "data": {
            "text/plain": [
              "0.4601487031476564"
            ]
          },
          "metadata": {},
          "execution_count": 3
        }
      ]
    },
    {
      "cell_type": "markdown",
      "source": [
        "**2**.**Calculate** **Probabilities** **Using** **a** **Poisson** **Distribution**"
      ],
      "metadata": {
        "id": "CXNEEWfMHpfw"
      }
    },
    {
      "cell_type": "markdown",
      "source": [
        "Q2.1. A store sells 4 apples per day on average. What is the probability that they will sell 6 apples on a given day?"
      ],
      "metadata": {
        "id": "Npflnc01H0CF"
      }
    },
    {
      "cell_type": "markdown",
      "source": [
        "P(X=6) ,mu=4"
      ],
      "metadata": {
        "id": "noNnaxUtIC_y"
      }
    },
    {
      "cell_type": "code",
      "source": [
        "from scipy.stats import poisson\n",
        "poisson.pmf(k=6,mu=4)"
      ],
      "metadata": {
        "colab": {
          "base_uri": "https://localhost:8080/"
        },
        "id": "CLR1Z4JEIOI8",
        "outputId": "def4afea-f6a0-443f-a6ad-927b9cfddcd2"
      },
      "execution_count": 4,
      "outputs": [
        {
          "output_type": "execute_result",
          "data": {
            "text/plain": [
              "0.10419563456702102"
            ]
          },
          "metadata": {},
          "execution_count": 4
        }
      ]
    },
    {
      "cell_type": "markdown",
      "source": [
        "Q2.2. A certain store sells seven footballs per day on average. What is the probability that this store sells four or less footballs in a given day?"
      ],
      "metadata": {
        "id": "48XC9fONIhOn"
      }
    },
    {
      "cell_type": "markdown",
      "source": [
        "P(X<=4) , mu=7"
      ],
      "metadata": {
        "id": "J0-VXM9oIjlT"
      }
    },
    {
      "cell_type": "code",
      "source": [
        "from scipy.stats import poisson\n",
        "poisson.cdf(k=4,mu=7)"
      ],
      "metadata": {
        "colab": {
          "base_uri": "https://localhost:8080/"
        },
        "id": "Yk83hKkyIp9j",
        "outputId": "baa5e5be-8925-490d-886a-bed51f96b059"
      },
      "execution_count": 5,
      "outputs": [
        {
          "output_type": "execute_result",
          "data": {
            "text/plain": [
              "0.17299160788207146"
            ]
          },
          "metadata": {},
          "execution_count": 5
        }
      ]
    },
    {
      "cell_type": "markdown",
      "source": [
        "Q2.3. A certain store sells 15 cans of tuna per day on average. What is the probability that this store sells more than 20 cans of tuna in a given day?"
      ],
      "metadata": {
        "id": "nIzKY1cGI_Hu"
      }
    },
    {
      "cell_type": "markdown",
      "source": [
        "P(X>20)=1-P(X<=20), where mu=15"
      ],
      "metadata": {
        "id": "JzDBXEU7JB76"
      }
    },
    {
      "cell_type": "code",
      "source": [
        "from scipy.stats import poisson\n",
        "1-poisson.cdf(k=20,mu=15)"
      ],
      "metadata": {
        "colab": {
          "base_uri": "https://localhost:8080/"
        },
        "id": "zZNXtWMNJLnK",
        "outputId": "dd6834ba-95dd-4493-9f2a-5b3c62ea5888"
      },
      "execution_count": 6,
      "outputs": [
        {
          "output_type": "execute_result",
          "data": {
            "text/plain": [
              "0.08297091003146029"
            ]
          },
          "metadata": {},
          "execution_count": 6
        }
      ]
    },
    {
      "cell_type": "markdown",
      "source": [
        "**3**.**Calculate** **Probabilities** **Using** **a** **Uniform** **Distribution**"
      ],
      "metadata": {
        "id": "MQp1-NaLJaRZ"
      }
    },
    {
      "cell_type": "markdown",
      "source": [
        "Q3.1. Suppose a bus shows up at a bus stop every 20 minutes. If you arrive at the bus stop, what is the probability that the bus will show up in 8 minutes or less?"
      ],
      "metadata": {
        "id": "oZoOzwxGJia5"
      }
    },
    {
      "cell_type": "code",
      "source": [
        "from scipy.stats import uniform\n",
        "#calculate uniform probability\n",
        "uniform.cdf(x=8, loc=0, scale=20) "
      ],
      "metadata": {
        "colab": {
          "base_uri": "https://localhost:8080/"
        },
        "id": "byUDGfI-KDZ9",
        "outputId": "0991f4d6-77c4-402b-e8fc-2b1f4457619f"
      },
      "execution_count": 7,
      "outputs": [
        {
          "output_type": "execute_result",
          "data": {
            "text/plain": [
              "0.4"
            ]
          },
          "metadata": {},
          "execution_count": 7
        }
      ]
    },
    {
      "cell_type": "markdown",
      "source": [
        "Q3.2.The weight of a certain species of frog is uniformly distributed between 15 and 25 grams. If you randomly select a frog, what is the probability that the frog weighs between 17 and 19 grams?"
      ],
      "metadata": {
        "id": "pU5roXXVKYGp"
      }
    },
    {
      "cell_type": "code",
      "source": [
        "from scipy.stats import uniform\n",
        "#calculate uniform probability\n",
        "uniform.cdf(x=19, loc=15, scale=10) - uniform .cdf(x=17,loc=15,scale=10)"
      ],
      "metadata": {
        "colab": {
          "base_uri": "https://localhost:8080/"
        },
        "id": "Plw5-OjHKfYY",
        "outputId": "185e7bd4-bfdc-402c-b901-d818ae484811"
      },
      "execution_count": 8,
      "outputs": [
        {
          "output_type": "execute_result",
          "data": {
            "text/plain": [
              "0.2"
            ]
          },
          "metadata": {},
          "execution_count": 8
        }
      ]
    },
    {
      "cell_type": "markdown",
      "source": [
        "Q3.3.The length of an NBA game is uniformly distributed between 120 and 170 minutes. What is the probability that a randomly selected NBA game lasts more than 150 minutes?"
      ],
      "metadata": {
        "id": "zj6wHqRuLKaz"
      }
    },
    {
      "cell_type": "code",
      "source": [
        "from scipy.stats import uniform\n",
        "#calculate uniform probability \n",
        "uniform.cdf(x=170, loc=120, scale=50) - uniform.cdf(x=150,loc=120,scale=50)"
      ],
      "metadata": {
        "colab": {
          "base_uri": "https://localhost:8080/"
        },
        "id": "DCzDnUv4OMQZ",
        "outputId": "b9a060f4-9001-4141-c517-66f101c54459"
      },
      "execution_count": 10,
      "outputs": [
        {
          "output_type": "execute_result",
          "data": {
            "text/plain": [
              "0.4"
            ]
          },
          "metadata": {},
          "execution_count": 10
        }
      ]
    },
    {
      "cell_type": "markdown",
      "source": [
        "**4**.**Calculate** **Probabilities** **Using** **a** **Normal** **Distribution**"
      ],
      "metadata": {
        "id": "ScWps07SO-pj"
      }
    },
    {
      "cell_type": "markdown",
      "source": [
        "Q4.1.A radar unit is used to measure speeds of cars on a motorway. The speeds are normally distributed with a mean of 90 km/hr and a standard deviation of 10 km/hr. What is the probability that a car picked at random is travelling at more than 100 km/hr?"
      ],
      "metadata": {
        "id": "6lF06dxhPfmn"
      }
    },
    {
      "cell_type": "markdown",
      "source": [
        "x has μ = 90 and σ = 10. We have to find the probability that x is higher than 100 or P(x > 100)"
      ],
      "metadata": {
        "id": "BYx_B-MiPjQG"
      }
    },
    {
      "cell_type": "markdown",
      "source": [
        "norm.pdf(x, loc, scale) The location (loc) keyword specifies the mean. The scale (scale) keyword specifies the standard deviation."
      ],
      "metadata": {
        "id": "kc_MmLeUPugZ"
      }
    },
    {
      "cell_type": "code",
      "source": [
        "from scipy.stats import norm\n",
        "1-norm.cdf(x=100,loc=90,scale=10)"
      ],
      "metadata": {
        "colab": {
          "base_uri": "https://localhost:8080/"
        },
        "id": "K6gstvjoP_gM",
        "outputId": "67f7785e-3911-4ffb-86c2-8f49e797aaa0"
      },
      "execution_count": 11,
      "outputs": [
        {
          "output_type": "execute_result",
          "data": {
            "text/plain": [
              "0.15865525393145707"
            ]
          },
          "metadata": {},
          "execution_count": 11
        }
      ]
    },
    {
      "cell_type": "markdown",
      "source": [
        "Q4.2.For a certain type of computers, the length of time bewteen charges of the battery is normally distributed with a mean of 50 hours and a standard deviation of 15 hours. John owns one of these computers and wants to know the probability that the length of time will be between 50 and 70 hours."
      ],
      "metadata": {
        "id": "ve0r5gRjQSc-"
      }
    },
    {
      "cell_type": "markdown",
      "source": [
        "Let x be the random variable that represents the length of time. It has a mean of 50 and a standard deviation of 15. We have to find the probability that x is between 50 and 70 or P( 50< x < 70)"
      ],
      "metadata": {
        "id": "oidt_XT2QgSn"
      }
    },
    {
      "cell_type": "code",
      "source": [
        "from scipy.stats import norm\n",
        "norm.cdf(x=70,loc=50,scale=15)-norm.cdf(x=50,loc=50,scale=15)"
      ],
      "metadata": {
        "colab": {
          "base_uri": "https://localhost:8080/"
        },
        "id": "geguCUeSQyqH",
        "outputId": "8243b565-365f-48e9-a591-b974b3fa47cf"
      },
      "execution_count": 12,
      "outputs": [
        {
          "output_type": "execute_result",
          "data": {
            "text/plain": [
              "0.4087887802741321"
            ]
          },
          "metadata": {},
          "execution_count": 12
        }
      ]
    },
    {
      "cell_type": "markdown",
      "source": [
        "Q4.3.Entry to a certain University is determined by a national test. The scores on this test are normally distributed with a mean of 500 and a standard deviation of 100. Tom wants to be admitted to this university and he knows that he must score better than at least 70% of the students who took the test. Tom takes the test and scores 585. Will he be admitted to this university?"
      ],
      "metadata": {
        "id": "MllAiGqxRMs8"
      }
    },
    {
      "cell_type": "markdown",
      "source": [
        "Let x be the random variable that represents the scores. x is normally ditsributed with a mean of 500 and a standard deviation of 100. The total area under the normal curve represents the total number of students who took the test. If we multiply the values of the areas under the curve by 100, we obtain percentages. For x = 585 , z = (585 - 500) / 100 = 0.85"
      ],
      "metadata": {
        "id": "UUrqoqjMRPDm"
      }
    },
    {
      "cell_type": "markdown",
      "source": [
        "The proportion P of students who scored below 585 is given by P(X<=585)"
      ],
      "metadata": {
        "id": "uQyBXWJiRZRH"
      }
    },
    {
      "cell_type": "code",
      "source": [
        "from scipy.stats import norm\n",
        "norm.cdf(x=585,loc=500,scale=100)"
      ],
      "metadata": {
        "colab": {
          "base_uri": "https://localhost:8080/"
        },
        "id": "KR6qZeqgRiU1",
        "outputId": "6b6fb630-8d6e-4ad4-c434-8fab95d3ea94"
      },
      "execution_count": 13,
      "outputs": [
        {
          "output_type": "execute_result",
          "data": {
            "text/plain": [
              "0.8023374568773076"
            ]
          },
          "metadata": {},
          "execution_count": 13
        }
      ]
    },
    {
      "cell_type": "markdown",
      "source": [
        "**Tom** **scored** **better** **than** **80.23**% **of** ***the*** **students** **who** **took** **the** **test** ***and*** **he** **will** **be** **admitted** **to** **this** **University**."
      ],
      "metadata": {
        "id": "6ZucLPp5Ru1F"
      }
    }
  ]
}
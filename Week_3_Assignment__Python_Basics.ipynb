{
  "nbformat": 4,
  "nbformat_minor": 0,
  "metadata": {
    "colab": {
      "name": "Week 3: Assignment _Python Basics.ipynb",
      "provenance": [],
      "authorship_tag": "ABX9TyMaZYHbFEBfP2HQGo92ILOK",
      "include_colab_link": true
    },
    "kernelspec": {
      "name": "python3",
      "display_name": "Python 3"
    },
    "language_info": {
      "name": "python"
    }
  },
  "cells": [
    {
      "cell_type": "markdown",
      "metadata": {
        "id": "view-in-github",
        "colab_type": "text"
      },
      "source": [
        "<a href=\"https://colab.research.google.com/github/Pavankumar327/Projectpresentation-1-Pavan-Kumar-killana-/blob/main/Week_3_Assignment__Python_Basics.ipynb\" target=\"_parent\"><img src=\"https://colab.research.google.com/assets/colab-badge.svg\" alt=\"Open In Colab\"/></a>"
      ]
    },
    {
      "cell_type": "markdown",
      "source": [
        "**Week** **3**:**Assignment** **bold text**"
      ],
      "metadata": {
        "id": "jFDXzG4O7cay"
      }
    },
    {
      "cell_type": "markdown",
      "source": [
        "Q1.Calculate the Salary using Python Programming\n"
      ],
      "metadata": {
        "id": "LJIhz9zq7oCN"
      }
    },
    {
      "cell_type": "markdown",
      "source": [
        "Read the question carefully and follow the input and output format. \n"
      ],
      "metadata": {
        "id": "muJJI4HU7xsq"
      }
    },
    {
      "cell_type": "markdown",
      "source": [
        "Karen got salary for this month and she spends 20% of her salary for food, 10% of her salary for entertainment and 10% of her salary for travel.If she takes care of other shifts she will get 4% of the salary per day. Given her salary and the number of shifts she handled.Calculate how much she can save in her pocket after spending all these?\n"
      ],
      "metadata": {
        "id": "l76fWRLq73Oe"
      }
    },
    {
      "cell_type": "markdown",
      "source": [
        "Input and Output Format : First line of input consists of an integer, salary. Next line correspond to the number of shifts. Output consist of an integer, \n",
        "which is saving.\n",
        " 1. Print \"Salary too large\" when salary is greater than 10000. \n",
        " 2. Print \"Shifts too small\" when the shift is less than 0. \n",
        " 3. Print \"Salary too small\" when the salary is less than 0.\n",
        "\n"
      ],
      "metadata": {
        "id": "-ONotZBy7_IL"
      }
    },
    {
      "cell_type": "markdown",
      "source": [
        "Include a function named calculateSal()  to calcuate salary and print saving.\n"
      ],
      "metadata": {
        "id": "H5dJO7QW8c62"
      }
    },
    {
      "cell_type": "markdown",
      "source": [
        "Sample input 1:\n",
        "\n",
        " 7000\n",
        "\n",
        " 5\n",
        "\n",
        "Sample output 1:\n",
        "\n",
        " 5600\n",
        "\n",
        "Sample input 2:\n",
        "\n",
        " 80000\n",
        "\n",
        "Sample output 2:\n",
        "\n",
        " salary too large \n",
        "\n",
        "Sample input 3:\n",
        "\n",
        " 6000\n",
        "\n",
        " -1\n",
        "\n",
        "Sample output 3:\n",
        "\n",
        " Shifts too small \n",
        " "
      ],
      "metadata": {
        "id": "nnL6y5yem6Dp"
      }
    },
    {
      "cell_type": "code",
      "source": [
        "def calculatesal():\n",
        "  salary = int(input(\"Enter the salary :\"))\n",
        "  if salary > 10000:\n",
        "    print (\"Salary too large \")\n",
        "  elif salary < 0:\n",
        "    print (\"Salary too small \")\n",
        "  else :\n",
        "    shifts = int(input (\"Enter no of shifts :\"))\n",
        "    if shifts < 0:\n",
        "      print (\"Shifts too small \")\n",
        "    else:\n",
        "      savings = (salary *0.6)+(salary *0.04*shifts )\n",
        "      return savings\n",
        "calculatesal()"
      ],
      "metadata": {
        "colab": {
          "base_uri": "https://localhost:8080/"
        },
        "id": "zLw_IKwOw5vy",
        "outputId": "bf368225-c831-4430-ed39-cbe8ae7d9405"
      },
      "execution_count": null,
      "outputs": [
        {
          "name": "stdout",
          "output_type": "stream",
          "text": [
            "Enter the salary :5000\n",
            "Enter no of shifts :2\n"
          ]
        },
        {
          "output_type": "execute_result",
          "data": {
            "text/plain": [
              "3400.0"
            ]
          },
          "metadata": {},
          "execution_count": 2
        }
      ]
    },
    {
      "cell_type": "markdown",
      "source": [
        "Q2.write python code to read n as integer,from STDIN. For all non-negative integers i<n ,print i**2."
      ],
      "metadata": {
        "id": "uw_jejdP1veR"
      }
    },
    {
      "cell_type": "markdown",
      "source": [
        "Example:\n",
        "The list of non-negative integers that are less than n=3 is[0,1,2]. Print the square of each number on a separate line. \n",
        "\n",
        "0\n",
        "\n",
        "1\n",
        "\n",
        "4\n"
      ],
      "metadata": {
        "id": "ChvP9b0i17MR"
      }
    },
    {
      "cell_type": "markdown",
      "source": [
        "Input format:\n",
        "\n",
        "The first and only line contains the integer,n .\n",
        "Output format:\n",
        "\n",
        "Print n lines , one correspomding to each i"
      ],
      "metadata": {
        "id": "MHko31IU2rih"
      }
    },
    {
      "cell_type": "markdown",
      "source": [
        "Sample Input:\n",
        "\n",
        "5\n",
        "\n",
        "Sample Output:\n",
        "\n",
        "0\n",
        "\n",
        "1\n",
        "\n",
        "4\n",
        "\n",
        "9\n",
        "\n",
        "16"
      ],
      "metadata": {
        "id": "Y9woby1S3zr4"
      }
    },
    {
      "cell_type": "code",
      "source": [
        "n=int(input(\"How many square number you want:\"))\n",
        "print(\"The square of each number:\")\n",
        "for i in range(n):\n",
        " print(i**2)\n",
        "  "
      ],
      "metadata": {
        "colab": {
          "base_uri": "https://localhost:8080/"
        },
        "id": "WyZEaGI64N6V",
        "outputId": "3986dc7b-ead2-4908-f417-b28036e5e5f2"
      },
      "execution_count": null,
      "outputs": [
        {
          "output_type": "stream",
          "name": "stdout",
          "text": [
            "How many square number you want:6\n",
            "The square of each number:\n",
            "0\n",
            "1\n",
            "4\n",
            "9\n",
            "16\n",
            "25\n"
          ]
        }
      ]
    },
    {
      "cell_type": "code",
      "source": [
        "n = int(input(\"Enter the value:\"))\n",
        "for i in range(n):\n",
        "  print(i*i)"
      ],
      "metadata": {
        "colab": {
          "base_uri": "https://localhost:8080/"
        },
        "id": "ytHJxAOv5EWa",
        "outputId": "e9841375-964d-4118-bf1c-f6c2f68e1385"
      },
      "execution_count": null,
      "outputs": [
        {
          "output_type": "stream",
          "name": "stdout",
          "text": [
            "Enter the value:7\n",
            "0\n",
            "1\n",
            "4\n",
            "9\n",
            "16\n",
            "25\n",
            "36\n"
          ]
        }
      ]
    },
    {
      "cell_type": "markdown",
      "source": [
        "Q3.An extra day is added to the calendar almost every four years as February 29, and the day is called a leap day. It corrects the calendar for the fact that our planet takes approximately 365.25 days to orbit the sun. A leap year contains a leap day."
      ],
      "metadata": {
        "id": "WdesXUD05_EH"
      }
    },
    {
      "cell_type": "markdown",
      "source": [
        "In the Gregorian calendar, three conditions are used to identify leap years:\n",
        "The year can be evenly divided by 4, is a leap year, unless:\n",
        "The year can be evenly divided by 100, it is NOT a leap year, unless:\n",
        "The year is also evenly divisible by 400. Then it is a leap year.\n"
      ],
      "metadata": {
        "id": "YeT6oXIy6a2M"
      }
    },
    {
      "cell_type": "markdown",
      "source": [
        "Source Task:\n",
        "\n",
        "Given a year, determine whether it is a leap year. If it is a leap year, return the Boolean True, otherwise return False.\n"
      ],
      "metadata": {
        "id": "hqzmK0SH7GYn"
      }
    },
    {
      "cell_type": "markdown",
      "source": [
        "Note that the code stub provided reads from STDIN and passes arguments to the is_leap function. It is only necessary to complete the is_leap function.\n",
        " Input format:\n",
        "\n",
        " Read the year as integer to test\n",
        "\n",
        " Output format:\n",
        "\n",
        " The function must return a Boolean value (True/False) "
      ],
      "metadata": {
        "id": "Hpd8uFxT72Hz"
      }
    },
    {
      "cell_type": "markdown",
      "source": [
        "Sample input:\n",
        "\n",
        "1970\n",
        "\n",
        "Sample output:\n",
        "\n",
        "False"
      ],
      "metadata": {
        "id": "OJVZIwx-8pD3"
      }
    },
    {
      "cell_type": "code",
      "source": [
        "def is_leap(year):\n",
        "      return bool((year%4==0 and year%100!=0) or (year%400==0))\n",
        "year=int(input(\"Enter The Year\"))\n",
        "is_leap(year) "
      ],
      "metadata": {
        "colab": {
          "base_uri": "https://localhost:8080/"
        },
        "id": "YZU7D5bC8_gB",
        "outputId": "2f3fa7e6-bec2-4a64-b3d9-2565ee8694a1"
      },
      "execution_count": null,
      "outputs": [
        {
          "name": "stdout",
          "output_type": "stream",
          "text": [
            "Enter The Year1970\n"
          ]
        },
        {
          "output_type": "execute_result",
          "data": {
            "text/plain": [
              "False"
            ]
          },
          "metadata": {},
          "execution_count": 9
        }
      ]
    },
    {
      "cell_type": "code",
      "source": [
        "def is_leap1():\n",
        "      year = int(input(\"enter the year\"))\n",
        "      if (year % 400 == 0) and (year % 100 == 0):\n",
        "             return True\n",
        "      elif (year % 4 ==0) and (year % 100 != 0):\n",
        "             return True\n",
        "      else:\n",
        "             return False\n",
        "is_leap1()"
      ],
      "metadata": {
        "colab": {
          "base_uri": "https://localhost:8080/"
        },
        "id": "19VqdAXH9yx8",
        "outputId": "035e2853-6b76-4bc3-9199-a6685c3a9d8a"
      },
      "execution_count": null,
      "outputs": [
        {
          "name": "stdout",
          "output_type": "stream",
          "text": [
            "enter the year1950\n"
          ]
        },
        {
          "output_type": "execute_result",
          "data": {
            "text/plain": [
              "False"
            ]
          },
          "metadata": {},
          "execution_count": 14
        }
      ]
    },
    {
      "cell_type": "code",
      "source": [
        "def is_leap2(year):\n",
        "    leap = False\n",
        "    if year % 4 == 0:\n",
        "       if year % 100 != 0:\n",
        "          leap = True\n",
        "       elif year % 400 == 0:\n",
        "          leap = True\n",
        "    return leap\n",
        "year = int(input())\n",
        "is_leap2(year) "
      ],
      "metadata": {
        "colab": {
          "base_uri": "https://localhost:8080/"
        },
        "id": "isWkNBDe_j3U",
        "outputId": "c0f34ab1-da70-4363-c609-463662cd355c"
      },
      "execution_count": null,
      "outputs": [
        {
          "name": "stdout",
          "output_type": "stream",
          "text": [
            "2000\n"
          ]
        },
        {
          "output_type": "execute_result",
          "data": {
            "text/plain": [
              "True"
            ]
          },
          "metadata": {},
          "execution_count": 15
        }
      ]
    },
    {
      "cell_type": "markdown",
      "source": [
        ""
      ],
      "metadata": {
        "id": "Lun4vT1p64uv"
      }
    }
  ]
}